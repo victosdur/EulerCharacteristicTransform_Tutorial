{
 "cells": [
  {
   "cell_type": "markdown",
   "metadata": {},
   "source": [
    "This library can compute the ECC of any given grayscale image in linear time with respect to its number of pixels. The demeter workflow can readily take either 2D pixel-based or 3D voxel-based images, use filter functions outside the ones provided with minimal wrangling, and overall benefit from the standard python ecosystem.\n",
    "\n"
   ]
  }
 ],
 "metadata": {
  "language_info": {
   "name": "python"
  }
 },
 "nbformat": 4,
 "nbformat_minor": 2
}
