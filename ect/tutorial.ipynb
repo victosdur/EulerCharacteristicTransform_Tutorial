{
 "cells": [
  {
   "cell_type": "markdown",
   "metadata": {},
   "source": [
    "Right now, this library can compute ECT only on graphs embedded in 2D"
   ]
  }
 ],
 "metadata": {
  "language_info": {
   "name": "python"
  }
 },
 "nbformat": 4,
 "nbformat_minor": 2
}
